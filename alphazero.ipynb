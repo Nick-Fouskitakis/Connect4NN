{
 "cells": [
  {
   "cell_type": "code",
   "execution_count": null,
   "id": "0cdcf88b-c9f5-4208-96c5-802244c2efe1",
   "metadata": {},
   "outputs": [],
   "source": [
    "import numpy as np\n",
    "import math"
   ]
  },
  {
   "cell_type": "code",
   "execution_count": null,
   "id": "4497f032-a39c-4c83-90fb-4c39eea776a8",
   "metadata": {},
   "outputs": [],
   "source": [
    "class TicTacToe:\n",
    "    def get_initial_state(self):\n",
    "        return np.array([[0]* 3] * 3)\n",
    "\n",
    "    def get_valid_moves(self, state):\n",
    "        return [i for i, n in enumerate(state.reshape(-1)) if n == 0]\n",
    "        \n",
    "    def play_and_check(self, state, action, player):\n",
    "        row = action // 3\n",
    "        col = action % 3\n",
    "        state[row, col] = player\n",
    "        if any(v == player*3 for v in (\n",
    "            np.sum(state[row, :]),\n",
    "            np.sum(state[:, col]),\n",
    "            np.sum(np.diag(state)),\n",
    "            np.sum(np.diag(np.flip(state, axis=0)))\n",
    "        )):\n",
    "            return player\n",
    "            \n",
    "        if len(self.get_valid_moves(state)) == 0:\n",
    "            return 0\n",
    "            \n",
    "        return -player\n"
   ]
  },
  {
   "cell_type": "code",
   "execution_count": null,
   "id": "b7e24de6-7a56-408a-8d7c-a92b04ac0378",
   "metadata": {},
   "outputs": [],
   "source": [
    "t3 = TicTacToe()\n",
    "player_n = 1\n",
    "p_symbols = {1: \"X\", -1: \"O\", 0: \" \"}\n",
    "board = t3.get_initial_state()\n",
    "\n",
    "def board_repr(myboard, tile_width=3):\n",
    "    msg = \"\"\n",
    "    for i, row in enumerate(myboard):\n",
    "        # Print row\n",
    "        element = p_symbols[row[0]]  # first element does not need leading |\n",
    "        element_str = '{:^{width}}'.format(element, width=tile_width)\n",
    "        msg = msg + element_str\n",
    "\n",
    "        for element in row[1:]:\n",
    "            element_str = '|{:^{width}}'.format(p_symbols[element], width=tile_width)  # elements with leading |\n",
    "            msg = msg + element_str\n",
    "\n",
    "        msg = msg + '\\n'\n",
    "\n",
    "        # Print row divider if its not the last row\n",
    "        if i is not len(myboard) - 1:\n",
    "            element_str = '{:-^{width}}'.format(\"\", width=((tile_width + 1) * len(row) - 1))  # '*' as fill char\n",
    "            msg = msg + element_str\n",
    "            msg = msg + '\\n'\n",
    "    return msg\n",
    "\n",
    "\n",
    "while True:\n",
    "    valid_moves = t3.get_valid_moves(board)\n",
    "    print(board_repr(board) + \"\\n\" + \"Valid Moves:\", valid_moves)\n",
    "    move = input(\"Play a move: \")\n",
    "\n",
    "    if not move.isdigit():\n",
    "        print(\"Invalid move. Enter a move as a digit, choosing from the available ones listed below:\")\n",
    "        continue\n",
    "\n",
    "    if int(move) not in valid_moves:\n",
    "        print(\"Invalid move. Choose the move from the available ones listed below:\")\n",
    "        continue\n",
    "\n",
    "    game_over = t3.play_and_check(board, int(move), player_n)\n",
    "    if game_over == player_n:\n",
    "        print(board_repr(board))\n",
    "        print(f\"Player {p_symbols[player_n]} won.\")\n",
    "        break\n",
    "\n",
    "    if game_over == 0:\n",
    "        print(board_repr(board))\n",
    "        print(\"Draw\")\n",
    "        break\n",
    "\n",
    "    player_n *= -1"
   ]
  },
  {
   "cell_type": "code",
   "execution_count": null,
   "id": "6cff536a-4061-405c-b3a0-d9830369231f",
   "metadata": {},
   "outputs": [],
   "source": []
  }
 ],
 "metadata": {
  "kernelspec": {
   "display_name": "Python 3 (ipykernel)",
   "language": "python",
   "name": "python3"
  },
  "language_info": {
   "codemirror_mode": {
    "name": "ipython",
    "version": 3
   },
   "file_extension": ".py",
   "mimetype": "text/x-python",
   "name": "python",
   "nbconvert_exporter": "python",
   "pygments_lexer": "ipython3",
   "version": "3.11.7"
  }
 },
 "nbformat": 4,
 "nbformat_minor": 5
}
